{
 "cells": [
  {
   "cell_type": "code",
   "execution_count": 224,
   "id": "eb34ba03-716e-4992-94d4-ec0a9a2b77e0",
   "metadata": {},
   "outputs": [],
   "source": [
    "import sys\n",
    "#letter:(frequency in texts, frequency in dictionary)\n",
    "letter_frequencies = {\n",
    "    \"A\": 8.2,\n",
    "    \"B\": 1.5,\n",
    "    \"C\": 2.8,\n",
    "    \"D\": 4.3,\n",
    "    \"E\": 12.7,\n",
    "    \"F\": 2.2,\n",
    "    \"G\": 2.0,\n",
    "    \"H\": 6.1,\n",
    "    \"I\": 7.0,\n",
    "    \"J\": 0.15,\n",
    "    \"K\": 0.77,\n",
    "    \"L\": 4.0,\n",
    "    \"M\": 2.4,\n",
    "    \"N\": 6.7,\n",
    "    \"O\": 7.5,\n",
    "    \"P\": 1.9,\n",
    "    \"Q\": 0.095,\n",
    "    \"R\": 6.0,\n",
    "    \"S\": 6.3,\n",
    "    \"T\": 9.1,\n",
    "    \"U\": 2.8,\n",
    "    \"V\": 0.98,\n",
    "    \"W\": 2.4,\n",
    "    \"X\": 0.15,\n",
    "    \"Y\": 2.0,\n",
    "    \"Z\": 0.074\n",
    "}\n"
   ]
  },
  {
   "cell_type": "code",
   "execution_count": 225,
   "id": "e23167ab-a9b0-4479-a8c9-32d874f9ab5f",
   "metadata": {},
   "outputs": [],
   "source": [
    "#letter:(frequency in texts, frequency in dictionary) as first letter\n",
    "\n",
    "first_letter_frequencies = {\n",
    "    \"A\": 11.7,\n",
    "    \"B\": 4.4,\n",
    "    \"C\": 5.2,\n",
    "    \"D\": 3.2,\n",
    "    \"E\": 2.8,\n",
    "    \"F\": 4.0,\n",
    "    \"G\": 1.6,\n",
    "    \"H\": 4.2,\n",
    "    \"I\": 7.3,\n",
    "    \"J\": 0.51,\n",
    "    \"K\": 0.86,\n",
    "    \"L\": 2.4,\n",
    "    \"M\": 3.8,\n",
    "    \"N\": 2.3,\n",
    "    \"O\": 7.6,\n",
    "    \"P\": 4.3,\n",
    "    \"Q\": 0.22,\n",
    "    \"R\": 2.8,\n",
    "    \"S\": 6.7,\n",
    "    \"T\": 16.0,\n",
    "    \"U\": 1.2,\n",
    "    \"V\": 0.82,\n",
    "    \"W\": 5.5,\n",
    "    \"X\": 0.045,\n",
    "    \"Y\": 0.76,\n",
    "    \"Z\": 0.045\n",
    "}\n"
   ]
  },
  {
   "cell_type": "code",
   "execution_count": 226,
   "id": "3ab3ce8d-6f1a-4ac2-82d4-8d2f16f50c02",
   "metadata": {},
   "outputs": [],
   "source": [
    "ciphertext = \"\"\"OUETOJIDECEJTCE OTUWSTDWCCILETIOTBIFATFWOUTITSYICCTNILTHATUWSTSUHRCBEJTT\n",
    "IABTUET HCCHFEBTOUETAIJJHFTJHIBTOUIOTCEBTIQJHSSTOUET WECBSTFUEJETOUETLJISSTT\n",
    "FISTSOWCCTFEOTFWOUTBEFTIABTOUETIWJTFISTQHHCTFUWCETOUETSHRABTH TNWJBSTT\n",
    "EQUHEBT JHYTOUETOJEESTOUIOTSOHHBTIOTOUETEBLETH TOUET HJESOTIABTOUETSXGTT\n",
    "LJEFTNJWLUOEJTFWOUTEDEJGTSOEPTISTOUETSRATJHSETNEUWABTOUETBWSOIAOTUWCCSTT\n",
    "IABTOUETSUIBHFSTSUHJOEAEBTFUWCETOUETQHCHJSTH TOUETEIJOUTQUIALEBTSCHFCGTT\n",
    " JHYTLJEGTOHTLHCBTISTW TOUETCIABTWOSEC TFEJETIFIXEAWALTOHTLJEEOTUWYTHATT\n",
    "UWSTKHRJAEGTOUIOTSEEYEBTOHTSOJEOQUTEABCESSCGTNE HJETUWYTCWXETITJWDEJTT\n",
    "FUHSETQHRJSETFISTRAXAHFATGEOTPJHYWSEBTOHTCEIBTSHYEFUEJETNEGHABTOUETUHJWMHATT\n",
    "FUEJETOUETQWOGTUETBJEIYEBTH TSOHHBTFWOUTFICCSTH TSOHAETIABTOHFEJSTOUIOTT\n",
    "LCWOOEJEBTWATOUETCWLUOTH TOUETYHJAWALTSRATOUIOTSUHAETFWOUTITNJWCCWIAQETT\n",
    "OUIOTYIBETUWYTOUWAXTH TSOHJWESTUETUIBTUEIJBTISTITQUWCBTFUEATUETSIOTNGTT\n",
    "OUET WJETIABTCWSOEAEBTOHTUWSTYHOUEJTSPEIXTH TUEJHESTFUHTOJIDECEBT IJTT\n",
    "IABT HRABTFHABEJSTOUIOTQUIALEBTOUEWJTCWDEST HJEDEJTFUWCETUETFHABEJEBTW TT\n",
    "UWSTHFATSOEPSTFHRCBTHAETBIGTNJWALTUWYTOHTSRQUTPCIQESTHJTW TOUETJHIBTT\n",
    "FHRCBTSWYPCGTQHAOWARETFWOUHROTEABTIQJHSSTDICCEGSTIABTHDEJTJWDEJSTIABTT\n",
    "OUJHRLUT HJESOSTOUIOTLJEFTBIJXEJTISTOUETCWLUOTH TBIGT IBEBTIABTOUETYHHATT\n",
    "IPPEIJEBTWATOUETSXGTOHTFIOQUTHDEJTUWYTFWOUTSWCEAOTEGESTOUIOTSEEYEBTOHTT\n",
    "LRWBETUWST EEOTICHALTPIOUSTUETUIBTAEDEJTXAHFATEVWSOEBTRAOWCTOUETAWLUOTT\n",
    "HPEAEBTOUEYTNE HJETUWYTIABTOUETSOIJSTINHDETYIJXEBTUWSTFIGTFWOUTOUEWJTT\n",
    "BWSOIAOTCWLUOTOUIOTLCWOOEJEBTCWXETSWCDEJTBRSOTSQIOOEJEBTIQJHSSTITNCIQXTT\n",
    "QCHOUTOUIOTQHDEJEBTOUETUEIDEASTIABTYIBETUWYT EECTNHOUTSYICCTIABTGEOTT\n",
    "PIJOTH TSHYEOUWALTLJEIOEJTOUIATUWYSEC TISTW TOUETRAWDEJSETUIBTNEEATT\n",
    "FIWOWALT HJTUWYTOHTFICXTOUWSTDEJGTJHIBTIABTOHTCEIJATOUIOTOUETKHRJAEGTT\n",
    "FISTAHOTHACGTINHROTJEIQUWALTOUETQWOGTUETSHRLUOTNROTINHROTBWSQHDEJWALTT\n",
    "OUETSOJEALOUTOUIOTCIGTFWOUWATUWYTIABTOUETQHRJILETOUIOTLJEFTFWOUTEIQUTT\n",
    "SOEPTOUIOTUETOHHXTWAOHTOUETRAXAHFATFUEJETOUETPJHYWSETH TOHYHJJHFTT\n",
    "FIWOEBTCWXETITCWLUOTOUIOTQHRCBTAEDEJTNETEVOWALRWSUEBTAHTYIOOEJTUHFTT\n",
    "CHALTOUETAWLUOTHJTUHFT IJTOUETJHIBTOUIOTCEBTUWYTEDEJTHAFIJBTWAOHTOUETBWSOIAQETT\"\"\""
   ]
  },
  {
   "cell_type": "code",
   "execution_count": 227,
   "id": "a4260a05-deba-4c3d-a414-a5834755c642",
   "metadata": {},
   "outputs": [],
   "source": [
    "def make_mp(list1, list2):\n",
    "    '''returns the mp from list1 to list2'''\n",
    "    mp = {}\n",
    "    cnt = 0\n",
    "    for i in list1:\n",
    "        mp[i] = list2[cnt]\n",
    "        cnt+=1\n",
    "    return mp"
   ]
  },
  {
   "cell_type": "code",
   "execution_count": 228,
   "id": "1ca57f6f-b905-4f84-b124-a0a2ad13de8b",
   "metadata": {},
   "outputs": [],
   "source": [
    "def decipher(mp, ciphertext):\n",
    "    '''given the mp it returns the dechiper text'''\n",
    "    decipher=\"\"\n",
    "    for a in ciphertext:\n",
    "        if a in mp.keys():\n",
    "            decipher += mp[a]\n",
    "        else: #for spaces and '/n'\n",
    "            decipher += a \n",
    "    return decipher"
   ]
  },
  {
   "cell_type": "code",
   "execution_count": 229,
   "id": "30b63dc2-0c96-4b75-a887-e24a459d35c3",
   "metadata": {},
   "outputs": [],
   "source": [
    "def count_letters(ciphertext):\n",
    "    frq = {}\n",
    "    leng = len(ciphertext)\n",
    "    for a in ciphertext:\n",
    "        if a in frq:\n",
    "            frq[a] += 1\n",
    "        else:\n",
    "            frq[a] = 1\n",
    "    leng = leng - frq[' '] - frq['\\n'] #not counting spaces\n",
    "    del frq[' ']\n",
    "    del frq['\\n']\n",
    "    for a in frq:\n",
    "        frq[a] = float('%.3f'%(frq[a]/leng*100))\n",
    "    return frq\n"
   ]
  },
  {
   "cell_type": "code",
   "execution_count": 230,
   "id": "fa830d05-4c60-446c-a6b9-b256f5bc80ea",
   "metadata": {},
   "outputs": [
    {
     "name": "stdout",
     "output_type": "stream",
     "text": [
      "frequencies:\n",
      "[('M', 0.049), ('K', 0.098), ('V', 0.098), ('P', 0.64), ('X', 0.788), ('N', 0.886), ('D', 1.034), ('G', 1.132), ('R', 1.329), ('Q', 1.379), ('Y', 1.576), ('L', 1.822), ('F', 2.708), ('C', 3.348), ('B', 4.234), ('A', 4.53), ('W', 4.973), ('S', 4.973), ('J', 5.022), ('H', 5.958), ('I', 6.056), ('U', 7.336), ('O', 8.813), ('E', 10.832), ('T', 20.384)] with 25\n",
      "\n",
      "frequencies:\n",
      "[('Z', 0.074), ('Q', 0.095), ('J', 0.15), ('X', 0.15), ('K', 0.77), ('V', 0.98), ('B', 1.5), ('P', 1.9), ('G', 2.0), ('Y', 2.0), ('F', 2.2), ('M', 2.4), ('W', 2.4), ('C', 2.8), ('U', 2.8), ('L', 4.0), ('D', 4.3), ('R', 6.0), ('H', 6.1), ('S', 6.3), ('N', 6.7), ('I', 7.0), ('O', 7.5), ('A', 8.2), ('T', 9.1), ('E', 12.7)] with 26\n",
      "\n"
     ]
    }
   ],
   "source": [
    "#we want to analyze the frequency of each letter, and the frquency of each first letter, assuming spaces are not encoded(i think it's not the case), so:\n",
    "frq = {}\n",
    "leng = len(ciphertext)\n",
    "# dict with frequency mpped\n",
    "for a in ciphertext:\n",
    "    if a in frq:\n",
    "        frq[a] = frq[a] + 1\n",
    "    else:\n",
    "        frq[a] = 1\n",
    "leng = leng - frq[' '] - frq['\\n'] #not counting spaces\n",
    "del frq[' ']\n",
    "del frq['\\n']\n",
    "for a in frq:\n",
    "    frq[a] = float('%.3f'%(frq[a]/leng*100))\n",
    "\n",
    "sorted_frq = list(sorted(frq.items(), key=lambda item: item[1]))\n",
    "print(f\"frequencies:\\n{sorted_frq} with {len(sorted_frq)}\\n\")\n",
    "sorted_frequencies = list(sorted(letter_frequencies.items(), key=lambda item: item[1]))\n",
    "print(f\"frequencies:\\n{sorted_frequencies} with {len(sorted_frequencies)}\\n\")\n",
    "    # insert a in frq and cout 1\n"
   ]
  },
  {
   "cell_type": "code",
   "execution_count": 231,
   "id": "32207997-3bb8-4868-a42f-c78db58083ab",
   "metadata": {
    "scrolled": true
   },
   "outputs": [
    {
     "name": "stdout",
     "output_type": "stream",
     "text": [
      "{'M': 'Z', 'K': 'Q', 'V': 'J', 'P': 'X', 'X': 'K', 'N': 'V', 'D': 'B', 'G': 'P', 'R': 'G', 'Q': 'Y', 'Y': 'F', 'L': 'M', 'F': 'W', 'C': 'C', 'B': 'U', 'A': 'L', 'W': 'D', 'S': 'R', 'J': 'H', 'H': 'S', 'I': 'N', 'U': 'I', 'O': 'O', 'E': 'A', 'T': 'T'}\n",
      "OIATOHNBACAHTCA OTIDRTBDCCNMATNOTUNWLTWDOITNTRFNCCTVNMTSLTIDRTRISGCUAHTT\n",
      "NLUTIAT SCCSWAUTOIATLNHHSWTHSNUTOINOTCAUTNYHSRRTOIAT DACURTWIAHATOIATMHNRRTT\n",
      "WNRTRODCCTWAOTWDOITUAWTNLUTOIATNDHTWNRTYSSCTWIDCATOIATRSGLUTS TVDHURTT\n",
      "AYISAUT HSFTOIATOHAARTOINOTROSSUTNOTOIATAUMATS TOIAT SHAROTNLUTOIATRKPTT\n",
      "MHAWTVHDMIOAHTWDOITABAHPTROAXTNRTOIATRGLTHSRATVAIDLUTOIATUDRONLOTIDCCRTT\n",
      "NLUTOIATRINUSWRTRISHOALAUTWIDCATOIATYSCSHRTS TOIATANHOITYINLMAUTRCSWCPTT\n",
      " HSFTMHAPTOSTMSCUTNRTD TOIATCNLUTDORAC TWAHATNWNKALDLMTOSTMHAAOTIDFTSLTT\n",
      "IDRTQSGHLAPTOINOTRAAFAUTOSTROHAOYITALUCARRCPTVA SHATIDFTCDKATNTHDBAHTT\n",
      "WISRATYSGHRATWNRTGLKLSWLTPAOTXHSFDRAUTOSTCANUTRSFAWIAHATVAPSLUTOIATISHDZSLTT\n",
      "WIAHATOIATYDOPTIATUHANFAUTS TROSSUTWDOITWNCCRTS TROSLATNLUTOSWAHRTOINOTT\n",
      "MCDOOAHAUTDLTOIATCDMIOTS TOIATFSHLDLMTRGLTOINOTRISLATWDOITNTVHDCCDNLYATT\n",
      "OINOTFNUATIDFTOIDLKTS TROSHDARTIATINUTIANHUTNRTNTYIDCUTWIALTIATRNOTVPTT\n",
      "OIAT DHATNLUTCDROALAUTOSTIDRTFSOIAHTRXANKTS TIAHSARTWISTOHNBACAUT NHTT\n",
      "NLUT SGLUTWSLUAHRTOINOTYINLMAUTOIADHTCDBART SHABAHTWIDCATIATWSLUAHAUTD TT\n",
      "IDRTSWLTROAXRTWSGCUTSLATUNPTVHDLMTIDFTOSTRGYITXCNYARTSHTD TOIATHSNUTT\n",
      "WSGCUTRDFXCPTYSLODLGATWDOISGOTALUTNYHSRRTBNCCAPRTNLUTSBAHTHDBAHRTNLUTT\n",
      "OIHSGMIT SHARORTOINOTMHAWTUNHKAHTNRTOIATCDMIOTS TUNPT NUAUTNLUTOIATFSSLTT\n",
      "NXXANHAUTDLTOIATRKPTOSTWNOYITSBAHTIDFTWDOITRDCALOTAPARTOINOTRAAFAUTOSTT\n",
      "MGDUATIDRT AAOTNCSLMTXNOIRTIATINUTLABAHTKLSWLTAJDROAUTGLODCTOIATLDMIOTT\n",
      "SXALAUTOIAFTVA SHATIDFTNLUTOIATRONHRTNVSBATFNHKAUTIDRTWNPTWDOITOIADHTT\n",
      "UDRONLOTCDMIOTOINOTMCDOOAHAUTCDKATRDCBAHTUGROTRYNOOAHAUTNYHSRRTNTVCNYKTT\n",
      "YCSOITOINOTYSBAHAUTOIATIANBALRTNLUTFNUATIDFT AACTVSOITRFNCCTNLUTPAOTT\n",
      "XNHOTS TRSFAOIDLMTMHANOAHTOINLTIDFRAC TNRTD TOIATGLDBAHRATINUTVAALTT\n",
      "WNDODLMT SHTIDFTOSTWNCKTOIDRTBAHPTHSNUTNLUTOSTCANHLTOINOTOIATQSGHLAPTT\n",
      "WNRTLSOTSLCPTNVSGOTHANYIDLMTOIATYDOPTIATRSGMIOTVGOTNVSGOTUDRYSBAHDLMTT\n",
      "OIATROHALMOITOINOTCNPTWDOIDLTIDFTNLUTOIATYSGHNMATOINOTMHAWTWDOITANYITT\n",
      "ROAXTOINOTIATOSSKTDLOSTOIATGLKLSWLTWIAHATOIATXHSFDRATS TOSFSHHSWTT\n",
      "WNDOAUTCDKATNTCDMIOTOINOTYSGCUTLABAHTVATAJODLMGDRIAUTLSTFNOOAHTISWTT\n",
      "CSLMTOIATLDMIOTSHTISWT NHTOIATHSNUTOINOTCAUTIDFTABAHTSLWNHUTDLOSTOIATUDRONLYATT\n"
     ]
    }
   ],
   "source": [
    "#try to mp a letter to another\n",
    "#clearly fails because it's missing a letter\n",
    "mp = {}\n",
    "cnt = 0\n",
    "for i in sorted_frq:\n",
    "    mp[i[0]] =  sorted_frequencies[cnt][0]\n",
    "    cnt+=1\n",
    "print(mp)\n",
    "print(decipher(mp, ciphertext))"
   ]
  },
  {
   "cell_type": "code",
   "execution_count": 232,
   "id": "f99353dd-5376-4838-af4b-2a7bdf4f5da4",
   "metadata": {},
   "outputs": [
    {
     "name": "stdout",
     "output_type": "stream",
     "text": [
      "{'T': 'E', 'E': 'T', 'O': 'A', 'U': 'O', 'I': 'I', 'H': 'N', 'J': 'S', 'S': 'H', 'W': 'R', 'A': 'D', 'B': 'L', 'C': 'U', 'F': 'C', 'L': 'W', 'Y': 'M', 'Q': 'F', 'R': 'Y', 'G': 'G', 'D': 'P', 'N': 'B', 'X': 'V', 'P': 'K', 'V': 'X', 'K': 'J', 'M': 'Q'}\n",
      "AOTEASIPTUTSEUT AEORHEPRUUIWTEIAELICDECRAOEIEHMIUUEBIWENDEORHEHONYULTSEE\n",
      "IDLEOTE NUUNCTLEAOTEDISSNCESNILEAOIAEUTLEIFSNHHEAOTE RTULHECOTSTEAOTEWSIHHEE\n",
      "CIHEHARUUECTAECRAOELTCEIDLEAOTEIRSECIHEFNNUECORUTEAOTEHNYDLEN EBRSLHEE\n",
      "TFONTLE SNMEAOTEASTTHEAOIAEHANNLEIAEAOTETLWTEN EAOTE NSTHAEIDLEAOTEHVGEE\n",
      "WSTCEBSRWOATSECRAOETPTSGEHATKEIHEAOTEHYDESNHTEBTORDLEAOTELRHAIDAEORUUHEE\n",
      "IDLEAOTEHOILNCHEHONSATDTLECORUTEAOTEFNUNSHEN EAOTETISAOEFOIDWTLEHUNCUGEE\n",
      " SNMEWSTGEANEWNULEIHER EAOTEUIDLERAHTU ECTSTEICIVTDRDWEANEWSTTAEORMENDEE\n",
      "ORHEJNYSDTGEAOIAEHTTMTLEANEHASTAFOETDLUTHHUGEBT NSTEORMEURVTEIESRPTSEE\n",
      "CONHTEFNYSHTECIHEYDVDNCDEGTAEKSNMRHTLEANEUTILEHNMTCOTSTEBTGNDLEAOTEONSRQNDEE\n",
      "COTSTEAOTEFRAGEOTELSTIMTLEN EHANNLECRAOECIUUHEN EHANDTEIDLEANCTSHEAOIAEE\n",
      "WURAATSTLERDEAOTEURWOAEN EAOTEMNSDRDWEHYDEAOIAEHONDTECRAOEIEBSRUURIDFTEE\n",
      "AOIAEMILTEORMEAORDVEN EHANSRTHEOTEOILEOTISLEIHEIEFORULECOTDEOTEHIAEBGEE\n",
      "AOTE RSTEIDLEURHATDTLEANEORHEMNAOTSEHKTIVEN EOTSNTHECONEASIPTUTLE ISEE\n",
      "IDLE NYDLECNDLTSHEAOIAEFOIDWTLEAOTRSEURPTHE NSTPTSECORUTEOTECNDLTSTLER EE\n",
      "ORHENCDEHATKHECNYULENDTELIGEBSRDWEORMEANEHYFOEKUIFTHENSER EAOTESNILEE\n",
      "CNYULEHRMKUGEFNDARDYTECRAONYAETDLEIFSNHHEPIUUTGHEIDLENPTSESRPTSHEIDLEE\n",
      "AOSNYWOE NSTHAHEAOIAEWSTCELISVTSEIHEAOTEURWOAEN ELIGE ILTLEIDLEAOTEMNNDEE\n",
      "IKKTISTLERDEAOTEHVGEANECIAFOENPTSEORMECRAOEHRUTDAETGTHEAOIAEHTTMTLEANEE\n",
      "WYRLTEORHE TTAEIUNDWEKIAOHEOTEOILEDTPTSEVDNCDETXRHATLEYDARUEAOTEDRWOAEE\n",
      "NKTDTLEAOTMEBT NSTEORMEIDLEAOTEHAISHEIBNPTEMISVTLEORHECIGECRAOEAOTRSEE\n",
      "LRHAIDAEURWOAEAOIAEWURAATSTLEURVTEHRUPTSELYHAEHFIAATSTLEIFSNHHEIEBUIFVEE\n",
      "FUNAOEAOIAEFNPTSTLEAOTEOTIPTDHEIDLEMILTEORME TTUEBNAOEHMIUUEIDLEGTAEE\n",
      "KISAEN EHNMTAORDWEWSTIATSEAOIDEORMHTU EIHER EAOTEYDRPTSHTEOILEBTTDEE\n",
      "CIRARDWE NSEORMEANECIUVEAORHEPTSGESNILEIDLEANEUTISDEAOIAEAOTEJNYSDTGEE\n",
      "CIHEDNAENDUGEIBNYAESTIFORDWEAOTEFRAGEOTEHNYWOAEBYAEIBNYAELRHFNPTSRDWEE\n",
      "AOTEHASTDWAOEAOIAEUIGECRAORDEORMEIDLEAOTEFNYSIWTEAOIAEWSTCECRAOETIFOEE\n",
      "HATKEAOIAEOTEANNVERDANEAOTEYDVDNCDECOTSTEAOTEKSNMRHTEN EANMNSSNCEE\n",
      "CIRATLEURVTEIEURWOAEAOIAEFNYULEDTPTSEBTETXARDWYRHOTLEDNEMIAATSEONCEE\n",
      "UNDWEAOTEDRWOAENSEONCE ISEAOTESNILEAOIAEUTLEORMETPTSENDCISLERDANEAOTELRHAIDFTEE\n"
     ]
    }
   ],
   "source": [
    "#let's try to reverse the order and assume the missing letter is the least frequent \n",
    "mp = {}\n",
    "cnt = 0\n",
    "for i in reversed(sorted_frq):\n",
    "    mp[i[0]] =  list(reversed(sorted_frequencies))[cnt][0]\n",
    "    cnt+=1\n",
    "print(mp)\n",
    "print(decipher(mp, ciphertext))\n",
    "# didn't work either"
   ]
  },
  {
   "cell_type": "code",
   "execution_count": 233,
   "id": "68bd7748-53ae-4d24-8596-bf7d9178f0c7",
   "metadata": {},
   "outputs": [],
   "source": [
    "# try to combine the nearest percentage for every character\n",
    "def combine(perc, dictionary):\n",
    "    '''returns the most similar percentage letter'''\n",
    "    diff = sys.float_info.max \n",
    "    for key, value in dictionary.items():\n",
    "        local_diff = abs(perc - value)\n",
    "        #print(f\"perc{perc}-value{value} = {local_diff}\")\n",
    "        if local_diff < diff:\n",
    "            diff = local_diff\n",
    "            elem = key\n",
    "    return elem"
   ]
  },
  {
   "cell_type": "code",
   "execution_count": 234,
   "id": "f1e55ea1-1267-4683-b683-571c849cd79b",
   "metadata": {},
   "outputs": [
    {
     "name": "stdout",
     "output_type": "stream",
     "text": [
      "{'O': 8.813, 'U': 7.336, 'E': 10.832, 'T': 20.384, 'J': 5.022, 'I': 6.056, 'D': 1.034, 'C': 3.348, 'W': 4.973, 'S': 4.973, 'L': 1.822, 'B': 4.234, 'F': 2.708, 'A': 4.53, 'Y': 1.576, 'N': 0.886, 'H': 5.958, 'R': 1.329, 'Q': 1.379, 'X': 0.788, 'G': 1.132, 'P': 0.64, 'K': 0.098, 'M': 0.049, 'V': 0.098}\n",
      "{'O': 'T', 'U': 'O', 'E': 'T', 'T': 'E', 'J': 'D', 'I': 'H', 'D': 'V', 'C': 'C', 'W': 'D', 'S': 'D', 'L': 'P', 'B': 'D', 'F': 'C', 'A': 'D', 'Y': 'B', 'N': 'V', 'H': 'R', 'R': 'B', 'Q': 'B', 'X': 'K', 'G': 'V', 'P': 'K', 'K': 'Q', 'M': 'Z', 'V': 'Q'}\n"
     ]
    }
   ],
   "source": [
    "mp = {}\n",
    "print(frq)\n",
    "for key, value in frq.items():\n",
    "    mp[key]= combine(value, letter_frequencies)\n",
    "print(mp)"
   ]
  },
  {
   "cell_type": "code",
   "execution_count": 235,
   "id": "6e5c303a-f5dc-4736-9af0-dd1e8a3d58c3",
   "metadata": {},
   "outputs": [],
   "source": [
    "## lets restart, the first thing i can notice is that there's a missing letter from the ciphertext, assuming the ' ' is a letter we'd have\n",
    "## english phrases without spaces between the words\n"
   ]
  },
  {
   "cell_type": "code",
   "execution_count": 236,
   "id": "ee9335c8-0aba-437c-bd32-33c3b8214656",
   "metadata": {},
   "outputs": [
    {
     "name": "stdout",
     "output_type": "stream",
     "text": [
      "{'O': 8.664, 'U': 7.212, 'E': 10.649, 'T': 20.039, 'J': 4.937, 'I': 5.954, 'D': 1.016, 'C': 3.291, ' ': 1.694, 'W': 4.889, 'S': 4.889, 'L': 1.791, 'B': 4.163, 'F': 2.662, 'A': 4.453, 'Y': 1.549, 'N': 0.871, 'H': 5.857, 'R': 1.307, 'Q': 1.355, 'X': 0.774, 'G': 1.113, 'P': 0.629, 'K': 0.097, 'M': 0.048, 'V': 0.097}\n"
     ]
    }
   ],
   "source": [
    "frq = {}\n",
    "leng = len(ciphertext)\n",
    "# dict with frequency mpped\n",
    "for a in ciphertext:\n",
    "    if a in frq:\n",
    "        frq[a] = frq[a] + 1\n",
    "    else:\n",
    "        frq[a] = 1\n",
    "leng = leng - frq['\\n'] #not counting spaces\n",
    "del frq['\\n']\n",
    "for a in frq:\n",
    "    frq[a] = float('%.3f'%(frq[a]/leng*100))\n",
    "print(frq)"
   ]
  },
  {
   "cell_type": "code",
   "execution_count": 237,
   "id": "0ed92978-30d0-4343-8bb5-4684a37b01cd",
   "metadata": {},
   "outputs": [
    {
     "name": "stdout",
     "output_type": "stream",
     "text": [
      "['M', 'K', 'V', 'P', 'X', 'N', 'D', 'G', 'R', 'Q', 'Y', ' ', 'L', 'F', 'C', 'B', 'A', 'W', 'S', 'J', 'H', 'I', 'U', 'O', 'E', 'T']\n",
      "['Z', 'Q', 'J', 'X', 'K', 'V', 'B', 'P', 'G', 'Y', 'F', 'M', 'W', 'C', 'U', 'L', 'D', 'R', 'H', 'S', 'N', 'I', 'O', 'A', 'T', 'E']\n",
      "{'M': 'Z', 'K': 'Q', 'V': 'J', 'P': 'X', 'X': 'K', 'N': 'V', 'D': 'B', 'G': 'P', 'R': 'G', 'Q': 'Y', 'Y': 'F', ' ': 'M', 'L': 'W', 'F': 'C', 'C': 'U', 'B': 'L', 'A': 'D', 'W': 'R', 'S': 'H', 'J': 'S', 'H': 'N', 'I': 'I', 'U': 'O', 'O': 'A', 'E': 'T', 'T': 'E'}\n",
      "OUETOJIDECEJTCE OTUWSTDWCCILETIOTBIFATFWOUTITSYICCTNILTHATUWSTSUHRCBEJTT\n",
      "IABTUET HCCHFEBTOUETAIJJHFTJHIBTOUIOTCEBTIQJHSSTOUET WECBSTFUEJETOUETLJISSTT\n",
      "FISTSOWCCTFEOTFWOUTBEFTIABTOUETIWJTFISTQHHCTFUWCETOUETSHRABTH TNWJBSTT\n",
      "EQUHEBT JHYTOUETOJEESTOUIOTSOHHBTIOTOUETEBLETH TOUET HJESOTIABTOUETSXGTT\n",
      "LJEFTNJWLUOEJTFWOUTEDEJGTSOEPTISTOUETSRATJHSETNEUWABTOUETBWSOIAOTUWCCSTT\n",
      "IABTOUETSUIBHFSTSUHJOEAEBTFUWCETOUETQHCHJSTH TOUETEIJOUTQUIALEBTSCHFCGTT\n",
      " JHYTLJEGTOHTLHCBTISTW TOUETCIABTWOSEC TFEJETIFIXEAWALTOHTLJEEOTUWYTHATT\n",
      "UWSTKHRJAEGTOUIOTSEEYEBTOHTSOJEOQUTEABCESSCGTNE HJETUWYTCWXETITJWDEJTT\n",
      "FUHSETQHRJSETFISTRAXAHFATGEOTPJHYWSEBTOHTCEIBTSHYEFUEJETNEGHABTOUETUHJWMHATT\n",
      "FUEJETOUETQWOGTUETBJEIYEBTH TSOHHBTFWOUTFICCSTH TSOHAETIABTOHFEJSTOUIOTT\n",
      "LCWOOEJEBTWATOUETCWLUOTH TOUETYHJAWALTSRATOUIOTSUHAETFWOUTITNJWCCWIAQETT\n",
      "OUIOTYIBETUWYTOUWAXTH TSOHJWESTUETUIBTUEIJBTISTITQUWCBTFUEATUETSIOTNGTT\n",
      "OUET WJETIABTCWSOEAEBTOHTUWSTYHOUEJTSPEIXTH TUEJHESTFUHTOJIDECEBT IJTT\n",
      "IABT HRABTFHABEJSTOUIOTQUIALEBTOUEWJTCWDEST HJEDEJTFUWCETUETFHABEJEBTW TT\n",
      "UWSTHFATSOEPSTFHRCBTHAETBIGTNJWALTUWYTOHTSRQUTPCIQESTHJTW TOUETJHIBTT\n",
      "FHRCBTSWYPCGTQHAOWARETFWOUHROTEABTIQJHSSTDICCEGSTIABTHDEJTJWDEJSTIABTT\n",
      "OUJHRLUT HJESOSTOUIOTLJEFTBIJXEJTISTOUETCWLUOTH TBIGT IBEBTIABTOUETYHHATT\n",
      "IPPEIJEBTWATOUETSXGTOHTFIOQUTHDEJTUWYTFWOUTSWCEAOTEGESTOUIOTSEEYEBTOHTT\n",
      "LRWBETUWST EEOTICHALTPIOUSTUETUIBTAEDEJTXAHFATEVWSOEBTRAOWCTOUETAWLUOTT\n",
      "HPEAEBTOUEYTNE HJETUWYTIABTOUETSOIJSTINHDETYIJXEBTUWSTFIGTFWOUTOUEWJTT\n",
      "BWSOIAOTCWLUOTOUIOTLCWOOEJEBTCWXETSWCDEJTBRSOTSQIOOEJEBTIQJHSSTITNCIQXTT\n",
      "QCHOUTOUIOTQHDEJEBTOUETUEIDEASTIABTYIBETUWYT EECTNHOUTSYICCTIABTGEOTT\n",
      "PIJOTH TSHYEOUWALTLJEIOEJTOUIATUWYSEC TISTW TOUETRAWDEJSETUIBTNEEATT\n",
      "FIWOWALT HJTUWYTOHTFICXTOUWSTDEJGTJHIBTIABTOHTCEIJATOUIOTOUETKHRJAEGTT\n",
      "FISTAHOTHACGTINHROTJEIQUWALTOUETQWOGTUETSHRLUOTNROTINHROTBWSQHDEJWALTT\n",
      "OUETSOJEALOUTOUIOTCIGTFWOUWATUWYTIABTOUETQHRJILETOUIOTLJEFTFWOUTEIQUTT\n",
      "SOEPTOUIOTUETOHHXTWAOHTOUETRAXAHFATFUEJETOUETPJHYWSETH TOHYHJJHFTT\n",
      "FIWOEBTCWXETITCWLUOTOUIOTQHRCBTAEDEJTNETEVOWALRWSUEBTAHTYIOOEJTUHFTT\n",
      "CHALTOUETAWLUOTHJTUHFT IJTOUETJHIBTOUIOTCEBTUWYTEDEJTHAFIJBTWAOHTOUETBWSOIAQETT\n"
     ]
    }
   ],
   "source": [
    "sorted_frq = [i[0] for i in list(sorted(frq.items(), key=lambda item: item[1]))]\n",
    "sorted_frequencies = [i[0] for i in list(sorted(letter_frequencies.items(), key=lambda item: item[1]))]\n",
    "print(sorted_frq)\n",
    "print(sorted_frequencies)\n",
    "mp = make_mp(sorted_frq, sorted_frequencies)\n",
    "print(mp)\n",
    "print(ciphertext)"
   ]
  },
  {
   "cell_type": "code",
   "execution_count": 238,
   "id": "88d5e465-8413-4c0b-aa38-c721635f8ad0",
   "metadata": {},
   "outputs": [
    {
     "name": "stdout",
     "output_type": "stream",
     "text": [
      "[('ET', 79), ('OU', 79), ('TO', 73), ('BT', 63), ('UE', 59), ('OT', 44), ('ST', 42), ('TS', 34), ('TI', 34), ('TU', 34), ('EJ', 33), ('TT', 29), ('UW', 29), ('JE', 28), ('T\\n', 28), ('TF', 28), ('EB', 26), ('IO', 25), ('UI', 24), ('AB', 24), ('IA', 23), ('JT', 23), ('TH', 21), ('OH', 19), ('SO', 19), ('DE', 19), ('GT', 18), ('AT', 18), (' T', 17), ('UT', 17), ('WO', 17), ('WS', 17), ('WA', 16), ('JH', 16), ('TC', 16), ('HR', 15), ('HA', 15), ('TN', 15), ('HT', 14), ('HJ', 14), ('T ', 14), ('AL', 13), ('OE', 13), ('YT', 13), ('CE', 13), ('CW', 12), ('WY', 12), ('TQ', 12), ('FI', 12), ('IB', 12), ('IJ', 12), ('HF', 12), ('EI', 11), ('EA', 11), ('H ', 11), ('WC', 11), ('AE', 10), ('SE', 10), ('TE', 10), ('IS', 10), ('FU', 10), ('UH', 10), ('LT', 10), ('FW', 10), ('TB', 10), ('TW', 9), ('LU', 9), ('ES', 9), ('QU', 9), ('CC', 9), ('UO', 8), ('JW', 8), ('RA', 8), ('QH', 8), ('TL', 8), ('TJ', 8), ('FT', 8), (' H', 8), ('BE', 8), ('TY', 7), ('JS', 7), ('AO', 7), ('WL', 7), ('EE', 7), ('HY', 7), ('EO', 7), ('\\nF', 7), ('LJ', 7), ('IQ', 7), ('TA', 7), ('CB', 7), ('XE', 6), ('EG', 6), ('NE', 6), ('CH', 6), ('CT', 6), ('IC', 6), ('YI', 6), ('IT', 6), ('EC', 6), ('HD', 5), ('XT', 5), ('AH', 5), ('YE', 5), ('AW', 5), ('ED', 5), ('HH', 5), ('WJ', 5), ('EF', 5), ('OW', 5), ('SS', 5), ('HS', 5), ('SU', 5), ('FA', 5), ('LE', 5), ('CI', 5), ('OJ', 5), ('NH', 4), ('RO', 4), ('IG', 4), ('FH', 4), ('HO', 4), ('\\nO', 4), ('YH', 4), ('OO', 4), ('TP', 4), ('TR', 4), ('WD', 4), ('JA', 4), ('RJ', 4), ('W ', 4), ('CG', 4), ('OI', 4), ('BW', 4), ('SH', 4), ('HI', 4), ('FE', 4), ('HC', 4), ('\\nI', 4), ('RC', 4), ('BI', 4), ('JI', 4), ('IN', 3), ('SW', 3), (' I', 3), ('PE', 3), ('QE', 3), ('GE', 3), ('XA', 3), ('AX', 3), ('WX', 3), ('EY', 3), ('JO', 3), ('SR', 3), ('EP', 3), ('NJ', 3), ('\\nL', 3), ('JB', 3), ('IW', 3), ('QJ', 3), ('IL', 3), ('TD', 3), ('E ', 3), ('ID', 3), ('SQ', 2), ('EV', 2), ('PI', 2), (' E', 2), ('RW', 2), ('LR', 2), ('JX', 2), ('RL', 2), ('PC', 2), ('EW', 2), ('AQ', 2), ('LC', 2), ('OG', 2), ('QW', 2), ('YW', 2), ('PJ', 2), ('TG', 2), ('OQ', 2), ('KH', 2), ('TK', 2), ('\\nU', 2), ('IX', 2), ('C ', 2), ('OS', 2), ('SC', 2), ('CS', 2), ('PT', 2), ('JG', 2), ('XG', 2), ('SX', 2), ('HB', 2), (' J', 2), ('HE', 2), ('BS', 2), ('WE', 2), (' W', 2), ('JJ', 2), ('SY', 2), ('IF', 2), ('AF', 1), ('\\nC', 1), ('VO', 1), ('HX', 1), ('\\nS', 1), ('LO', 1), ('NR', 1), ('AC', 1), ('CX', 1), ('YS', 1), ('\\nP', 1), ('AS', 1), ('QC', 1), ('\\nQ', 1), ('QX', 1), ('NC', 1), ('QI', 1), ('RS', 1), ('BR', 1), ('CD', 1), ('\\nB', 1), ('HP', 1), ('\\nH', 1), ('VW', 1), ('TX', 1), ('US', 1), ('WB', 1), ('PP', 1), ('IP', 1), ('UJ', 1), ('GS', 1), ('DI', 1), ('RE', 1), ('AR', 1), ('YP', 1), ('RQ', 1), ('PS', 1), ('SP', 1), ('NG', 1), ('SI', 1), ('WI', 1), ('IY', 1), ('BJ', 1), ('MH', 1), ('WM', 1), ('GH', 1), ('BC', 1), ('LH', 1), ('\\n ', 1), ('FC', 1), ('FS', 1), ('BH', 1), ('EU', 1), ('BL', 1), ('EQ', 1), ('\\nE', 1), ('NW', 1), ('AI', 1), ('NI', 1), ('DW', 1), (' O', 1)]\n"
     ]
    }
   ],
   "source": [
    "'''didn't work either, we can clearly notice that every phrase ends with TT in the ciphertext\n",
    "now i'll try to reconstruct the text piece by piece, first:\n",
    "1) there are some binomials that are common, like FU, OU...\n",
    "    in english there are some common bigrams\n",
    "'''\n",
    "common_bigrams = [\n",
    "    \"th\", \"he\", \"in\", \"en\", \"nt\", \"re\", \"er\", \"an\", \"ti\", \"es\", \"on\",\n",
    "    \"at\", \"se\", \"nd\", \"or\", \"ar\", \"al\", \"te\", \"co\", \"de\", \"to\", \"ra\",\n",
    "    \"et\", \"ed\", \"it\", \"sa\", \"em\", \"ro\"\n",
    "]\n",
    "## count bigrams:\n",
    "prev = 0\n",
    "bigrams= {}\n",
    "for i in ciphertext:\n",
    "    if prev == 0:\n",
    "        prev = i\n",
    "        continue\n",
    "    bigram = prev + i \n",
    "    if bigram in bigrams:\n",
    "        bigrams[bigram] += 1\n",
    "    else: \n",
    "        bigrams[bigram] = 1\n",
    "    prev = i\n",
    "common_bigrams = list(sorted(bigrams.items(), key = lambda bigram: bigram[1]))[::-1]\n",
    "print(common_bigrams)\n",
    "\n",
    "    \n"
   ]
  },
  {
   "cell_type": "code",
   "execution_count": 239,
   "id": "d3836bab-6c39-4421-affb-51d23cbded2e",
   "metadata": {},
   "outputs": [
    {
     "name": "stdout",
     "output_type": "stream",
     "text": [
      "{'OU': 5, 'IA': 3, 'FI': 4, 'EQ': 1, 'LJ': 1, ' J': 1, 'UW': 2, 'FU': 2, 'LC': 1, 'FH': 1, 'IP': 1, 'LR': 1, 'HP': 1, 'BW': 1, 'QC': 1, 'PI': 1, 'SO': 1, 'CH': 1}\n"
     ]
    }
   ],
   "source": [
    "'''the most common starting bigrams'''\n",
    "starting_bigrams={}\n",
    "for i in ciphertext.split('\\n'):\n",
    "    bigram = i[0:2]\n",
    "    if bigram in starting_bigrams:\n",
    "        starting_bigrams[bigram] += 1\n",
    "    else:\n",
    "        starting_bigrams[bigram] = 1\n",
    "print(starting_bigrams)"
   ]
  },
  {
   "cell_type": "code",
   "execution_count": 240,
   "id": "84f4ccae-1d70-49f3-bae9-d080c878800d",
   "metadata": {},
   "outputs": [
    {
     "name": "stdout",
     "output_type": "stream",
     "text": [
      "{'OUE': 3, 'IAB': 3, 'FIS': 2, 'EQU': 1, 'LJE': 1, ' JH': 1, 'UWS': 2, 'FUH': 1, 'FUE': 1, 'LCW': 1, 'OUI': 1, 'FHR': 1, 'OUJ': 1, 'IPP': 1, 'LRW': 1, 'HPE': 1, 'BWS': 1, 'QCH': 1, 'PIJ': 1, 'FIW': 2, 'SOE': 1, 'CHA': 1}\n"
     ]
    }
   ],
   "source": [
    "'''the most common starting trigrams'''\n",
    "starting_trigrams={}\n",
    "for i in ciphertext.split('\\n'):\n",
    "    trigram = i[0:3]\n",
    "    if trigram in starting_trigrams:\n",
    "        starting_trigrams[trigram] += 1\n",
    "    else:\n",
    "        starting_trigrams[trigram] = 1\n",
    "print(starting_trigrams)"
   ]
  },
  {
   "cell_type": "code",
   "execution_count": 241,
   "id": "82052ed0-8da4-4c88-9559-f02ee97084ec",
   "metadata": {},
   "outputs": [
    {
     "name": "stdout",
     "output_type": "stream",
     "text": [
      "OUE OJIDECEJ CETO UWS DWCCILE IO BIFA FWOU I SYICC NIL HA UWS SUHRCBEJ  \n",
      "IAB UE THCCHFEB OUE AIJJHF JHIB OUIO CEB IQJHSS OUE TWECBS FUEJE OUE LJISS  \n",
      "FIS SOWCC FEO FWOU BEF IAB OUE IWJ FIS QHHC FUWCE OUE SHRAB HT NWJBS  \n",
      "EQUHEB TJHY OUE OJEES OUIO SOHHB IO OUE EBLE HT OUE THJESO IAB OUE SXG  \n",
      "LJEF NJWLUOEJ FWOU EDEJG SOEP IS OUE SRA JHSE NEUWAB OUE BWSOIAO UWCCS  \n",
      "IAB OUE SUIBHFS SUHJOEAEB FUWCE OUE QHCHJS HT OUE EIJOU QUIALEB SCHFCG  \n",
      "TJHY LJEG OH LHCB IS WT OUE CIAB WOSECT FEJE IFIXEAWAL OH LJEEO UWY HA  \n",
      "UWS KHRJAEG OUIO SEEYEB OH SOJEOQU EABCESSCG NETHJE UWY CWXE I JWDEJ  \n",
      "FUHSE QHRJSE FIS RAXAHFA GEO PJHYWSEB OH CEIB SHYEFUEJE NEGHAB OUE UHJWMHA  \n",
      "FUEJE OUE QWOG UE BJEIYEB HT SOHHB FWOU FICCS HT SOHAE IAB OHFEJS OUIO  \n",
      "LCWOOEJEB WA OUE CWLUO HT OUE YHJAWAL SRA OUIO SUHAE FWOU I NJWCCWIAQE  \n",
      "OUIO YIBE UWY OUWAX HT SOHJWES UE UIB UEIJB IS I QUWCB FUEA UE SIO NG  \n",
      "OUE TWJE IAB CWSOEAEB OH UWS YHOUEJ SPEIX HT UEJHES FUH OJIDECEB TIJ  \n",
      "IAB THRAB FHABEJS OUIO QUIALEB OUEWJ CWDES THJEDEJ FUWCE UE FHABEJEB WT  \n",
      "UWS HFA SOEPS FHRCB HAE BIG NJWAL UWY OH SRQU PCIQES HJ WT OUE JHIB  \n",
      "FHRCB SWYPCG QHAOWARE FWOUHRO EAB IQJHSS DICCEGS IAB HDEJ JWDEJS IAB  \n",
      "OUJHRLU THJESOS OUIO LJEF BIJXEJ IS OUE CWLUO HT BIG TIBEB IAB OUE YHHA  \n",
      "IPPEIJEB WA OUE SXG OH FIOQU HDEJ UWY FWOU SWCEAO EGES OUIO SEEYEB OH  \n",
      "LRWBE UWS TEEO ICHAL PIOUS UE UIB AEDEJ XAHFA EVWSOEB RAOWC OUE AWLUO  \n",
      "HPEAEB OUEY NETHJE UWY IAB OUE SOIJS INHDE YIJXEB UWS FIG FWOU OUEWJ  \n",
      "BWSOIAO CWLUO OUIO LCWOOEJEB CWXE SWCDEJ BRSO SQIOOEJEB IQJHSS I NCIQX  \n",
      "QCHOU OUIO QHDEJEB OUE UEIDEAS IAB YIBE UWY TEEC NHOU SYICC IAB GEO  \n",
      "PIJO HT SHYEOUWAL LJEIOEJ OUIA UWYSECT IS WT OUE RAWDEJSE UIB NEEA  \n",
      "FIWOWAL THJ UWY OH FICX OUWS DEJG JHIB IAB OH CEIJA OUIO OUE KHRJAEG  \n",
      "FIS AHO HACG INHRO JEIQUWAL OUE QWOG UE SHRLUO NRO INHRO BWSQHDEJWAL  \n",
      "OUE SOJEALOU OUIO CIG FWOUWA UWY IAB OUE QHRJILE OUIO LJEF FWOU EIQU  \n",
      "SOEP OUIO UE OHHX WAOH OUE RAXAHFA FUEJE OUE PJHYWSE HT OHYHJJHF  \n",
      "FIWOEB CWXE I CWLUO OUIO QHRCB AEDEJ NE EVOWALRWSUEB AH YIOOEJ UHF  \n",
      "CHAL OUE AWLUO HJ UHF TIJ OUE JHIB OUIO CEB UWY EDEJ HAFIJB WAOH OUE BWSOIAQE  \n"
     ]
    }
   ],
   "source": [
    "'''imaging T as space we can use'''\n",
    "mp = {'T': ' ', ' ':'T'}\n",
    "new_cipher = decipher(mp, ciphertext)\n",
    "print(new_cipher)\n"
   ]
  },
  {
   "cell_type": "code",
   "execution_count": 242,
   "id": "6f349543-94c3-4e3a-af36-192e5c193dbd",
   "metadata": {},
   "outputs": [
    {
     "name": "stdout",
     "output_type": "stream",
     "text": [
      "['M', 'K', 'V', 'P', 'X', 'N', 'D', 'G', 'R', 'Q', 'Y', 'T', 'L', 'F', 'C', 'B', 'A', 'W', 'S', 'J', 'H', 'I', 'U', 'O', 'E']\n"
     ]
    }
   ],
   "source": [
    "'''we can notice that it seems more coherent with english language, from some patterns we notice OUE as THE so if we mp \n",
    "O-T, U-H, E-E, we can also mp OUIO to THAT because of it occurs various time and it's a known word, so I-A\n",
    "given a frequency mp we can try to sobstitute the know letters'''\n",
    "new_frequencies =[i[0] for i in list(sorted(count_letters(new_cipher).items(), key = lambda item: item[1]))]\n",
    "print(new_frequencies)\n"
   ]
  },
  {
   "cell_type": "code",
   "execution_count": 243,
   "id": "42b60283-2ea6-4c8e-b5c2-b17ac702f7d0",
   "metadata": {},
   "outputs": [
    {
     "name": "stdout",
     "output_type": "stream",
     "text": [
      "{'E': 'E', 'O': 'T', 'U': 'A', 'I': 'O', 'H': 'I', 'J': 'N', 'S': 'S', 'W': 'H', 'A': 'R', 'B': 'D', 'C': 'L', 'F': 'U', 'L': 'C', 'T': 'W', 'Y': 'M', 'Q': 'F', 'R': 'Y', 'G': 'G', 'D': 'P', 'N': 'B', 'X': 'V', 'P': 'K', 'V': 'X', 'K': 'J', 'M': 'Q'}\n"
     ]
    }
   ],
   "source": [
    "'''now we can do the mpping automatically'''\n",
    "mp = make_mp(list(reversed(new_frequencies)), list(reversed(sorted_frequencies)))\n",
    "print(mp)"
   ]
  },
  {
   "cell_type": "code",
   "execution_count": 244,
   "id": "fc6a521f-cf7e-4136-a57d-d20301a7ad64",
   "metadata": {},
   "outputs": [
    {
     "name": "stdout",
     "output_type": "stream",
     "text": [
      "TAE TNOPELEN LEWT AHS PHLLOCE OT DOUR UHTA O SMOLL BOC IR AHS SAIYLDEN  \n",
      "ORD AE WILLIUED TAE RONNIU NIOD TAOT LED OFNISS TAE WHELDS UAENE TAE CNOSS  \n",
      "UOS STHLL UET UHTA DEU ORD TAE OHN UOS FIIL UAHLE TAE SIYRD IW BHNDS  \n",
      "EFAIED WNIM TAE TNEES TAOT STIID OT TAE EDCE IW TAE WINEST ORD TAE SVG  \n",
      "CNEU BNHCATEN UHTA EPENG STEK OS TAE SYR NISE BEAHRD TAE DHSTORT AHLLS  \n",
      "ORD TAE SAODIUS SAINTERED UAHLE TAE FILINS IW TAE EONTA FAORCED SLIULG  \n",
      "WNIM CNEG TI CILD OS HW TAE LORD HTSELW UENE OUOVERHRC TI CNEET AHM IR  \n",
      "AHS JIYNREG TAOT SEEMED TI STNETFA ERDLESSLG BEWINE AHM LHVE O NHPEN  \n",
      "UAISE FIYNSE UOS YRVRIUR GET KNIMHSED TI LEOD SIMEUAENE BEGIRD TAE AINHQIR  \n",
      "UAENE TAE FHTG AE DNEOMED IW STIID UHTA UOLLS IW STIRE ORD TIUENS TAOT  \n",
      "CLHTTENED HR TAE LHCAT IW TAE MINRHRC SYR TAOT SAIRE UHTA O BNHLLHORFE  \n",
      "TAOT MODE AHM TAHRV IW STINHES AE AOD AEOND OS O FAHLD UAER AE SOT BG  \n",
      "TAE WHNE ORD LHSTERED TI AHS MITAEN SKEOV IW AENIES UAI TNOPELED WON  \n",
      "ORD WIYRD UIRDENS TAOT FAORCED TAEHN LHPES WINEPEN UAHLE AE UIRDENED HW  \n",
      "AHS IUR STEKS UIYLD IRE DOG BNHRC AHM TI SYFA KLOFES IN HW TAE NIOD  \n",
      "UIYLD SHMKLG FIRTHRYE UHTAIYT ERD OFNISS POLLEGS ORD IPEN NHPENS ORD  \n",
      "TANIYCA WINESTS TAOT CNEU DONVEN OS TAE LHCAT IW DOG WODED ORD TAE MIIR  \n",
      "OKKEONED HR TAE SVG TI UOTFA IPEN AHM UHTA SHLERT EGES TAOT SEEMED TI  \n",
      "CYHDE AHS WEET OLIRC KOTAS AE AOD REPEN VRIUR EXHSTED YRTHL TAE RHCAT  \n",
      "IKERED TAEM BEWINE AHM ORD TAE STONS OBIPE MONVED AHS UOG UHTA TAEHN  \n",
      "DHSTORT LHCAT TAOT CLHTTENED LHVE SHLPEN DYST SFOTTENED OFNISS O BLOFV  \n",
      "FLITA TAOT FIPENED TAE AEOPERS ORD MODE AHM WEEL BITA SMOLL ORD GET  \n",
      "KONT IW SIMETAHRC CNEOTEN TAOR AHMSELW OS HW TAE YRHPENSE AOD BEER  \n",
      "UOHTHRC WIN AHM TI UOLV TAHS PENG NIOD ORD TI LEONR TAOT TAE JIYNREG  \n",
      "UOS RIT IRLG OBIYT NEOFAHRC TAE FHTG AE SIYCAT BYT OBIYT DHSFIPENHRC  \n",
      "TAE STNERCTA TAOT LOG UHTAHR AHM ORD TAE FIYNOCE TAOT CNEU UHTA EOFA  \n",
      "STEK TAOT AE TIIV HRTI TAE YRVRIUR UAENE TAE KNIMHSE IW TIMINNIU  \n",
      "UOHTED LHVE O LHCAT TAOT FIYLD REPEN BE EXTHRCYHSAED RI MOTTEN AIU  \n",
      "LIRC TAE RHCAT IN AIU WON TAE NIOD TAOT LED AHM EPEN IRUOND HRTI TAE DHSTORFE  \n"
     ]
    }
   ],
   "source": [
    "print(decipher(mp, new_cipher))"
   ]
  },
  {
   "cell_type": "code",
   "execution_count": 245,
   "id": "b88f0b90-6044-453c-acc8-f6d28599f04f",
   "metadata": {},
   "outputs": [
    {
     "name": "stdout",
     "output_type": "stream",
     "text": [
      "mp coherent\n",
      "{'E': 'E', 'O': 'T', 'U': 'H', 'I': 'A', 'H': 'I', 'J': 'N', 'S': 'S', 'W': 'O', 'A': 'R', 'B': 'D', 'C': 'L', 'F': 'U', 'L': 'C', 'T': 'W', 'Y': 'M', 'Q': 'F', 'R': 'Y', 'G': 'G', 'D': 'P', 'N': 'B', 'X': 'V', 'P': 'K', 'V': 'X', 'K': 'J', 'M': 'Q'}\n",
      "THE TNAPELEN LEWT HOS POLLACE AT DAUR UOTH A SMALL BAC IR HOS SHIYLDEN  \n",
      "ARD HE WILLIUED THE RANNIU NIAD THAT LED AFNISS THE WOELDS UHENE THE CNASS  \n",
      "UAS STOLL UET UOTH DEU ARD THE AON UAS FIIL UHOLE THE SIYRD IW BONDS  \n",
      "EFHIED WNIM THE TNEES THAT STIID AT THE EDCE IW THE WINEST ARD THE SVG  \n",
      "CNEU BNOCHTEN UOTH EPENG STEK AS THE SYR NISE BEHORD THE DOSTART HOLLS  \n",
      "ARD THE SHADIUS SHINTERED UHOLE THE FILINS IW THE EANTH FHARCED SLIULG  \n",
      "WNIM CNEG TI CILD AS OW THE LARD OTSELW UENE AUAVERORC TI CNEET HOM IR  \n",
      "HOS JIYNREG THAT SEEMED TI STNETFH ERDLESSLG BEWINE HOM LOVE A NOPEN  \n",
      "UHISE FIYNSE UAS YRVRIUR GET KNIMOSED TI LEAD SIMEUHENE BEGIRD THE HINOQIR  \n",
      "UHENE THE FOTG HE DNEAMED IW STIID UOTH UALLS IW STIRE ARD TIUENS THAT  \n",
      "CLOTTENED OR THE LOCHT IW THE MINRORC SYR THAT SHIRE UOTH A BNOLLOARFE  \n",
      "THAT MADE HOM THORV IW STINOES HE HAD HEAND AS A FHOLD UHER HE SAT BG  \n",
      "THE WONE ARD LOSTERED TI HOS MITHEN SKEAV IW HENIES UHI TNAPELED WAN  \n",
      "ARD WIYRD UIRDENS THAT FHARCED THEON LOPES WINEPEN UHOLE HE UIRDENED OW  \n",
      "HOS IUR STEKS UIYLD IRE DAG BNORC HOM TI SYFH KLAFES IN OW THE NIAD  \n",
      "UIYLD SOMKLG FIRTORYE UOTHIYT ERD AFNISS PALLEGS ARD IPEN NOPENS ARD  \n",
      "THNIYCH WINESTS THAT CNEU DANVEN AS THE LOCHT IW DAG WADED ARD THE MIIR  \n",
      "AKKEANED OR THE SVG TI UATFH IPEN HOM UOTH SOLERT EGES THAT SEEMED TI  \n",
      "CYODE HOS WEET ALIRC KATHS HE HAD REPEN VRIUR EXOSTED YRTOL THE ROCHT  \n",
      "IKERED THEM BEWINE HOM ARD THE STANS ABIPE MANVED HOS UAG UOTH THEON  \n",
      "DOSTART LOCHT THAT CLOTTENED LOVE SOLPEN DYST SFATTENED AFNISS A BLAFV  \n",
      "FLITH THAT FIPENED THE HEAPERS ARD MADE HOM WEEL BITH SMALL ARD GET  \n",
      "KANT IW SIMETHORC CNEATEN THAR HOMSELW AS OW THE YROPENSE HAD BEER  \n",
      "UAOTORC WIN HOM TI UALV THOS PENG NIAD ARD TI LEANR THAT THE JIYNREG  \n",
      "UAS RIT IRLG ABIYT NEAFHORC THE FOTG HE SIYCHT BYT ABIYT DOSFIPENORC  \n",
      "THE STNERCTH THAT LAG UOTHOR HOM ARD THE FIYNACE THAT CNEU UOTH EAFH  \n",
      "STEK THAT HE TIIV ORTI THE YRVRIUR UHENE THE KNIMOSE IW TIMINNIU  \n",
      "UAOTED LOVE A LOCHT THAT FIYLD REPEN BE EXTORCYOSHED RI MATTEN HIU  \n",
      "LIRC THE ROCHT IN HIU WAN THE NIAD THAT LED HOM EPEN IRUAND ORTI THE DOSTARFE  \n"
     ]
    }
   ],
   "source": [
    "'''trying changing letters'''\n",
    "mp['U']='H'\n",
    "mp['I']='A'\n",
    "mp['W']='O'\n",
    "def is_coherent(m):\n",
    "    new_m = set()\n",
    "    for k,v in m.items():\n",
    "        if v in new_m:\n",
    "            print(f\"mpping not coherent {v} overlaps\")\n",
    "        else:\n",
    "            new_m.add(v)\n",
    "    print(\"mp coherent\")\n",
    "is_coherent(mp)\n",
    "print(mp)\n",
    "print(decipher(mp, new_cipher))"
   ]
  },
  {
   "cell_type": "code",
   "execution_count": 246,
   "id": "5750577a-7d48-4fb1-9b8c-ef8feb79c093",
   "metadata": {},
   "outputs": [
    {
     "name": "stdout",
     "output_type": "stream",
     "text": [
      "mp coherent\n",
      "{'E': 'E', 'O': 'T', 'U': 'H', 'I': 'A', 'H': 'O', 'J': 'N', 'S': 'S', 'W': 'I', 'A': 'R', 'B': 'D', 'C': 'L', 'F': 'U', 'L': 'C', 'T': 'W', 'Y': 'M', 'Q': 'F', 'R': 'Y', 'G': 'G', 'D': 'P', 'N': 'B', 'X': 'V', 'P': 'K', 'V': 'X', 'K': 'J', 'M': 'Q'}\n",
      "THE TNAPELEN LEWT HIS PILLACE AT DAUR UITH A SMALL BAC OR HIS SHOYLDEN  \n",
      "ARD HE WOLLOUED THE RANNOU NOAD THAT LED AFNOSS THE WIELDS UHENE THE CNASS  \n",
      "UAS STILL UET UITH DEU ARD THE AIN UAS FOOL UHILE THE SOYRD OW BINDS  \n",
      "EFHOED WNOM THE TNEES THAT STOOD AT THE EDCE OW THE WONEST ARD THE SVG  \n",
      "CNEU BNICHTEN UITH EPENG STEK AS THE SYR NOSE BEHIRD THE DISTART HILLS  \n",
      "ARD THE SHADOUS SHONTERED UHILE THE FOLONS OW THE EANTH FHARCED SLOULG  \n",
      "WNOM CNEG TO COLD AS IW THE LARD ITSELW UENE AUAVERIRC TO CNEET HIM OR  \n",
      "HIS JOYNREG THAT SEEMED TO STNETFH ERDLESSLG BEWONE HIM LIVE A NIPEN  \n",
      "UHOSE FOYNSE UAS YRVROUR GET KNOMISED TO LEAD SOMEUHENE BEGORD THE HONIQOR  \n",
      "UHENE THE FITG HE DNEAMED OW STOOD UITH UALLS OW STORE ARD TOUENS THAT  \n",
      "CLITTENED IR THE LICHT OW THE MONRIRC SYR THAT SHORE UITH A BNILLIARFE  \n",
      "THAT MADE HIM THIRV OW STONIES HE HAD HEAND AS A FHILD UHER HE SAT BG  \n",
      "THE WINE ARD LISTERED TO HIS MOTHEN SKEAV OW HENOES UHO TNAPELED WAN  \n",
      "ARD WOYRD UORDENS THAT FHARCED THEIN LIPES WONEPEN UHILE HE UORDENED IW  \n",
      "HIS OUR STEKS UOYLD ORE DAG BNIRC HIM TO SYFH KLAFES ON IW THE NOAD  \n",
      "UOYLD SIMKLG FORTIRYE UITHOYT ERD AFNOSS PALLEGS ARD OPEN NIPENS ARD  \n",
      "THNOYCH WONESTS THAT CNEU DANVEN AS THE LICHT OW DAG WADED ARD THE MOOR  \n",
      "AKKEANED IR THE SVG TO UATFH OPEN HIM UITH SILERT EGES THAT SEEMED TO  \n",
      "CYIDE HIS WEET ALORC KATHS HE HAD REPEN VROUR EXISTED YRTIL THE RICHT  \n",
      "OKERED THEM BEWONE HIM ARD THE STANS ABOPE MANVED HIS UAG UITH THEIN  \n",
      "DISTART LICHT THAT CLITTENED LIVE SILPEN DYST SFATTENED AFNOSS A BLAFV  \n",
      "FLOTH THAT FOPENED THE HEAPERS ARD MADE HIM WEEL BOTH SMALL ARD GET  \n",
      "KANT OW SOMETHIRC CNEATEN THAR HIMSELW AS IW THE YRIPENSE HAD BEER  \n",
      "UAITIRC WON HIM TO UALV THIS PENG NOAD ARD TO LEANR THAT THE JOYNREG  \n",
      "UAS ROT ORLG ABOYT NEAFHIRC THE FITG HE SOYCHT BYT ABOYT DISFOPENIRC  \n",
      "THE STNERCTH THAT LAG UITHIR HIM ARD THE FOYNACE THAT CNEU UITH EAFH  \n",
      "STEK THAT HE TOOV IRTO THE YRVROUR UHENE THE KNOMISE OW TOMONNOU  \n",
      "UAITED LIVE A LICHT THAT FOYLD REPEN BE EXTIRCYISHED RO MATTEN HOU  \n",
      "LORC THE RICHT ON HOU WAN THE NOAD THAT LED HIM EPEN ORUAND IRTO THE DISTARFE  \n"
     ]
    }
   ],
   "source": [
    "'''we notice a double H in HHS, so we have mpped to H, we know the correct one is the one mpped to U, so'''\n",
    "mp['W']='I'\n",
    "mp['H']='O'\n",
    "is_coherent(mp)\n",
    "print(mp)\n",
    "new_chiper2 = decipher(mp, new_cipher)\n",
    "print(new_chiper2)"
   ]
  },
  {
   "cell_type": "code",
   "execution_count": 247,
   "id": "f4680ec4-6db1-47fc-9514-dd12345a89f7",
   "metadata": {},
   "outputs": [
    {
     "name": "stdout",
     "output_type": "stream",
     "text": [
      "mp coherent\n",
      "{'E': 'E', 'O': 'T', 'U': 'H', 'I': 'A', 'H': 'O', 'J': 'R', 'S': 'S', 'W': 'I', 'A': 'N', 'B': 'D', 'C': 'L', 'F': 'U', 'L': 'C', 'T': 'W', 'Y': 'M', 'Q': 'F', 'R': 'Y', 'G': 'G', 'D': 'P', 'N': 'B', 'X': 'V', 'P': 'K', 'V': 'X', 'K': 'J', 'M': 'Q'}\n",
      "THE TRAPELER LEWT HIS PILLACE AT DAUN UITH A SMALL BAC ON HIS SHOYLDER  \n",
      "AND HE WOLLOUED THE NARROU ROAD THAT LED AFROSS THE WIELDS UHERE THE CRASS  \n",
      "UAS STILL UET UITH DEU AND THE AIR UAS FOOL UHILE THE SOYND OW BIRDS  \n",
      "EFHOED WROM THE TREES THAT STOOD AT THE EDCE OW THE WOREST AND THE SVG  \n",
      "CREU BRICHTER UITH EPERG STEK AS THE SYN ROSE BEHIND THE DISTANT HILLS  \n",
      "AND THE SHADOUS SHORTENED UHILE THE FOLORS OW THE EARTH FHANCED SLOULG  \n",
      "WROM CREG TO COLD AS IW THE LAND ITSELW UERE AUAVENINC TO CREET HIM ON  \n",
      "HIS JOYRNEG THAT SEEMED TO STRETFH ENDLESSLG BEWORE HIM LIVE A RIPER  \n",
      "UHOSE FOYRSE UAS YNVNOUN GET KROMISED TO LEAD SOMEUHERE BEGOND THE HORIQON  \n",
      "UHERE THE FITG HE DREAMED OW STOOD UITH UALLS OW STONE AND TOUERS THAT  \n",
      "CLITTERED IN THE LICHT OW THE MORNINC SYN THAT SHONE UITH A BRILLIANFE  \n",
      "THAT MADE HIM THINV OW STORIES HE HAD HEARD AS A FHILD UHEN HE SAT BG  \n",
      "THE WIRE AND LISTENED TO HIS MOTHER SKEAV OW HEROES UHO TRAPELED WAR  \n",
      "AND WOYND UONDERS THAT FHANCED THEIR LIPES WOREPER UHILE HE UONDERED IW  \n",
      "HIS OUN STEKS UOYLD ONE DAG BRINC HIM TO SYFH KLAFES OR IW THE ROAD  \n",
      "UOYLD SIMKLG FONTINYE UITHOYT END AFROSS PALLEGS AND OPER RIPERS AND  \n",
      "THROYCH WORESTS THAT CREU DARVER AS THE LICHT OW DAG WADED AND THE MOON  \n",
      "AKKEARED IN THE SVG TO UATFH OPER HIM UITH SILENT EGES THAT SEEMED TO  \n",
      "CYIDE HIS WEET ALONC KATHS HE HAD NEPER VNOUN EXISTED YNTIL THE NICHT  \n",
      "OKENED THEM BEWORE HIM AND THE STARS ABOPE MARVED HIS UAG UITH THEIR  \n",
      "DISTANT LICHT THAT CLITTERED LIVE SILPER DYST SFATTERED AFROSS A BLAFV  \n",
      "FLOTH THAT FOPERED THE HEAPENS AND MADE HIM WEEL BOTH SMALL AND GET  \n",
      "KART OW SOMETHINC CREATER THAN HIMSELW AS IW THE YNIPERSE HAD BEEN  \n",
      "UAITINC WOR HIM TO UALV THIS PERG ROAD AND TO LEARN THAT THE JOYRNEG  \n",
      "UAS NOT ONLG ABOYT REAFHINC THE FITG HE SOYCHT BYT ABOYT DISFOPERINC  \n",
      "THE STRENCTH THAT LAG UITHIN HIM AND THE FOYRACE THAT CREU UITH EAFH  \n",
      "STEK THAT HE TOOV INTO THE YNVNOUN UHERE THE KROMISE OW TOMORROU  \n",
      "UAITED LIVE A LICHT THAT FOYLD NEPER BE EXTINCYISHED NO MATTER HOU  \n",
      "LONC THE NICHT OR HOU WAR THE ROAD THAT LED HIM EPER ONUARD INTO THE DISTANFE  \n"
     ]
    }
   ],
   "source": [
    "'''we can continue with this method, the firts phrase is the traveler left his village at dawn with a small bag on his shoulder'''\n",
    "swp = mp['J']\n",
    "mp['J']='R'\n",
    "mp['A'] = swp\n",
    "is_coherent(mp)\n",
    "print(mp)\n",
    "print(decipher(mp, new_cipher))"
   ]
  },
  {
   "cell_type": "code",
   "execution_count": 248,
   "id": "eaf0aa48-a5d7-42a8-8ca7-94561b3f1b73",
   "metadata": {},
   "outputs": [
    {
     "name": "stdout",
     "output_type": "stream",
     "text": [
      "mp coherent\n",
      "{'E': 'E', 'O': 'T', 'U': 'H', 'I': 'A', 'H': 'O', 'J': 'R', 'S': 'S', 'W': 'I', 'A': 'N', 'B': 'D', 'C': 'L', 'F': 'U', 'L': 'C', 'T': 'F', 'Y': 'M', 'Q': 'W', 'R': 'Y', 'G': 'G', 'D': 'V', 'N': 'B', 'X': 'P', 'P': 'K', 'V': 'X', 'K': 'J', 'M': 'Q'}\n",
      "THE TRAVELER LEFT HIS VILLACE AT DAUN UITH A SMALL BAC ON HIS SHOYLDER  \n",
      "AND HE FOLLOUED THE NARROU ROAD THAT LED AWROSS THE FIELDS UHERE THE CRASS  \n",
      "UAS STILL UET UITH DEU AND THE AIR UAS WOOL UHILE THE SOYND OF BIRDS  \n",
      "EWHOED FROM THE TREES THAT STOOD AT THE EDCE OF THE FOREST AND THE SPG  \n",
      "CREU BRICHTER UITH EVERG STEK AS THE SYN ROSE BEHIND THE DISTANT HILLS  \n",
      "AND THE SHADOUS SHORTENED UHILE THE WOLORS OF THE EARTH WHANCED SLOULG  \n",
      "FROM CREG TO COLD AS IF THE LAND ITSELF UERE AUAPENINC TO CREET HIM ON  \n",
      "HIS JOYRNEG THAT SEEMED TO STRETWH ENDLESSLG BEFORE HIM LIPE A RIVER  \n",
      "UHOSE WOYRSE UAS YNPNOUN GET KROMISED TO LEAD SOMEUHERE BEGOND THE HORIQON  \n",
      "UHERE THE WITG HE DREAMED OF STOOD UITH UALLS OF STONE AND TOUERS THAT  \n",
      "CLITTERED IN THE LICHT OF THE MORNINC SYN THAT SHONE UITH A BRILLIANWE  \n",
      "THAT MADE HIM THINP OF STORIES HE HAD HEARD AS A WHILD UHEN HE SAT BG  \n",
      "THE FIRE AND LISTENED TO HIS MOTHER SKEAP OF HEROES UHO TRAVELED FAR  \n",
      "AND FOYND UONDERS THAT WHANCED THEIR LIVES FOREVER UHILE HE UONDERED IF  \n",
      "HIS OUN STEKS UOYLD ONE DAG BRINC HIM TO SYWH KLAWES OR IF THE ROAD  \n",
      "UOYLD SIMKLG WONTINYE UITHOYT END AWROSS VALLEGS AND OVER RIVERS AND  \n",
      "THROYCH FORESTS THAT CREU DARPER AS THE LICHT OF DAG FADED AND THE MOON  \n",
      "AKKEARED IN THE SPG TO UATWH OVER HIM UITH SILENT EGES THAT SEEMED TO  \n",
      "CYIDE HIS FEET ALONC KATHS HE HAD NEVER PNOUN EXISTED YNTIL THE NICHT  \n",
      "OKENED THEM BEFORE HIM AND THE STARS ABOVE MARPED HIS UAG UITH THEIR  \n",
      "DISTANT LICHT THAT CLITTERED LIPE SILVER DYST SWATTERED AWROSS A BLAWP  \n",
      "WLOTH THAT WOVERED THE HEAVENS AND MADE HIM FEEL BOTH SMALL AND GET  \n",
      "KART OF SOMETHINC CREATER THAN HIMSELF AS IF THE YNIVERSE HAD BEEN  \n",
      "UAITINC FOR HIM TO UALP THIS VERG ROAD AND TO LEARN THAT THE JOYRNEG  \n",
      "UAS NOT ONLG ABOYT REAWHINC THE WITG HE SOYCHT BYT ABOYT DISWOVERINC  \n",
      "THE STRENCTH THAT LAG UITHIN HIM AND THE WOYRACE THAT CREU UITH EAWH  \n",
      "STEK THAT HE TOOP INTO THE YNPNOUN UHERE THE KROMISE OF TOMORROU  \n",
      "UAITED LIPE A LICHT THAT WOYLD NEVER BE EXTINCYISHED NO MATTER HOU  \n",
      "LONC THE NICHT OR HOU FAR THE ROAD THAT LED HIM EVER ONUARD INTO THE DISTANWE  \n"
     ]
    }
   ],
   "source": [
    "swp = mp['D']\n",
    "mp['D']='V'\n",
    "mp['X']=swp\n",
    "swp = mp['T']\n",
    "mp['T']='F'\n",
    "mp['Q']=swp\n",
    "is_coherent(mp)\n",
    "print(mp)\n",
    "print(decipher(mp, new_cipher))"
   ]
  },
  {
   "cell_type": "code",
   "execution_count": 249,
   "id": "339c6d10-d8a2-4ed5-9ec4-f3e95630c856",
   "metadata": {},
   "outputs": [
    {
     "name": "stdout",
     "output_type": "stream",
     "text": [
      "mp coherent\n",
      "{'E': 'E', 'O': 'T', 'U': 'H', 'I': 'A', 'H': 'O', 'J': 'R', 'S': 'S', 'W': 'I', 'A': 'N', 'B': 'D', 'C': 'L', 'F': 'W', 'L': 'G', 'T': 'F', 'Y': 'M', 'Q': 'U', 'R': 'Y', 'G': 'C', 'D': 'V', 'N': 'B', 'X': 'P', 'P': 'K', 'V': 'X', 'K': 'J', 'M': 'Q'}\n",
      "THE TRAVELER LEFT HIS VILLAGE AT DAWN WITH A SMALL BAG ON HIS SHOYLDER  \n",
      "AND HE FOLLOWED THE NARROW ROAD THAT LED AUROSS THE FIELDS WHERE THE GRASS  \n",
      "WAS STILL WET WITH DEW AND THE AIR WAS UOOL WHILE THE SOYND OF BIRDS  \n",
      "EUHOED FROM THE TREES THAT STOOD AT THE EDGE OF THE FOREST AND THE SPC  \n",
      "GREW BRIGHTER WITH EVERC STEK AS THE SYN ROSE BEHIND THE DISTANT HILLS  \n",
      "AND THE SHADOWS SHORTENED WHILE THE UOLORS OF THE EARTH UHANGED SLOWLC  \n",
      "FROM GREC TO GOLD AS IF THE LAND ITSELF WERE AWAPENING TO GREET HIM ON  \n",
      "HIS JOYRNEC THAT SEEMED TO STRETUH ENDLESSLC BEFORE HIM LIPE A RIVER  \n",
      "WHOSE UOYRSE WAS YNPNOWN CET KROMISED TO LEAD SOMEWHERE BECOND THE HORIQON  \n",
      "WHERE THE UITC HE DREAMED OF STOOD WITH WALLS OF STONE AND TOWERS THAT  \n",
      "GLITTERED IN THE LIGHT OF THE MORNING SYN THAT SHONE WITH A BRILLIANUE  \n",
      "THAT MADE HIM THINP OF STORIES HE HAD HEARD AS A UHILD WHEN HE SAT BC  \n",
      "THE FIRE AND LISTENED TO HIS MOTHER SKEAP OF HEROES WHO TRAVELED FAR  \n",
      "AND FOYND WONDERS THAT UHANGED THEIR LIVES FOREVER WHILE HE WONDERED IF  \n",
      "HIS OWN STEKS WOYLD ONE DAC BRING HIM TO SYUH KLAUES OR IF THE ROAD  \n",
      "WOYLD SIMKLC UONTINYE WITHOYT END AUROSS VALLECS AND OVER RIVERS AND  \n",
      "THROYGH FORESTS THAT GREW DARPER AS THE LIGHT OF DAC FADED AND THE MOON  \n",
      "AKKEARED IN THE SPC TO WATUH OVER HIM WITH SILENT ECES THAT SEEMED TO  \n",
      "GYIDE HIS FEET ALONG KATHS HE HAD NEVER PNOWN EXISTED YNTIL THE NIGHT  \n",
      "OKENED THEM BEFORE HIM AND THE STARS ABOVE MARPED HIS WAC WITH THEIR  \n",
      "DISTANT LIGHT THAT GLITTERED LIPE SILVER DYST SUATTERED AUROSS A BLAUP  \n",
      "ULOTH THAT UOVERED THE HEAVENS AND MADE HIM FEEL BOTH SMALL AND CET  \n",
      "KART OF SOMETHING GREATER THAN HIMSELF AS IF THE YNIVERSE HAD BEEN  \n",
      "WAITING FOR HIM TO WALP THIS VERC ROAD AND TO LEARN THAT THE JOYRNEC  \n",
      "WAS NOT ONLC ABOYT REAUHING THE UITC HE SOYGHT BYT ABOYT DISUOVERING  \n",
      "THE STRENGTH THAT LAC WITHIN HIM AND THE UOYRAGE THAT GREW WITH EAUH  \n",
      "STEK THAT HE TOOP INTO THE YNPNOWN WHERE THE KROMISE OF TOMORROW  \n",
      "WAITED LIPE A LIGHT THAT UOYLD NEVER BE EXTINGYISHED NO MATTER HOW  \n",
      "LONG THE NIGHT OR HOW FAR THE ROAD THAT LED HIM EVER ONWARD INTO THE DISTANUE  \n"
     ]
    }
   ],
   "source": [
    "swp = mp['L']\n",
    "mp['L']='G'\n",
    "mp['G']=swp\n",
    "swp = mp['F']\n",
    "mp['F']='W'\n",
    "mp['Q']=swp\n",
    "is_coherent(mp)\n",
    "print(mp)\n",
    "print(decipher(mp, new_cipher))"
   ]
  },
  {
   "cell_type": "code",
   "execution_count": 250,
   "id": "0f5c3a8d-c2ae-4e36-a1ed-fd773b892d17",
   "metadata": {},
   "outputs": [
    {
     "name": "stdout",
     "output_type": "stream",
     "text": [
      "mp coherent\n",
      "{'E': 'E', 'O': 'T', 'U': 'H', 'I': 'A', 'H': 'O', 'J': 'R', 'S': 'S', 'W': 'I', 'A': 'N', 'B': 'D', 'C': 'L', 'F': 'W', 'L': 'G', 'T': 'F', 'Y': 'M', 'Q': 'C', 'R': 'Y', 'G': 'U', 'D': 'V', 'N': 'B', 'X': 'P', 'P': 'K', 'V': 'X', 'K': 'J', 'M': 'Q'}\n",
      "THE TRAVELER LEFT HIS VILLAGE AT DAWN WITH A SMALL BAG ON HIS SHOYLDER  \n",
      "AND HE FOLLOWED THE NARROW ROAD THAT LED ACROSS THE FIELDS WHERE THE GRASS  \n",
      "WAS STILL WET WITH DEW AND THE AIR WAS COOL WHILE THE SOYND OF BIRDS  \n",
      "ECHOED FROM THE TREES THAT STOOD AT THE EDGE OF THE FOREST AND THE SPU  \n",
      "GREW BRIGHTER WITH EVERU STEK AS THE SYN ROSE BEHIND THE DISTANT HILLS  \n",
      "AND THE SHADOWS SHORTENED WHILE THE COLORS OF THE EARTH CHANGED SLOWLU  \n",
      "FROM GREU TO GOLD AS IF THE LAND ITSELF WERE AWAPENING TO GREET HIM ON  \n",
      "HIS JOYRNEU THAT SEEMED TO STRETCH ENDLESSLU BEFORE HIM LIPE A RIVER  \n",
      "WHOSE COYRSE WAS YNPNOWN UET KROMISED TO LEAD SOMEWHERE BEUOND THE HORIQON  \n",
      "WHERE THE CITU HE DREAMED OF STOOD WITH WALLS OF STONE AND TOWERS THAT  \n",
      "GLITTERED IN THE LIGHT OF THE MORNING SYN THAT SHONE WITH A BRILLIANCE  \n",
      "THAT MADE HIM THINP OF STORIES HE HAD HEARD AS A CHILD WHEN HE SAT BU  \n",
      "THE FIRE AND LISTENED TO HIS MOTHER SKEAP OF HEROES WHO TRAVELED FAR  \n",
      "AND FOYND WONDERS THAT CHANGED THEIR LIVES FOREVER WHILE HE WONDERED IF  \n",
      "HIS OWN STEKS WOYLD ONE DAU BRING HIM TO SYCH KLACES OR IF THE ROAD  \n",
      "WOYLD SIMKLU CONTINYE WITHOYT END ACROSS VALLEUS AND OVER RIVERS AND  \n",
      "THROYGH FORESTS THAT GREW DARPER AS THE LIGHT OF DAU FADED AND THE MOON  \n",
      "AKKEARED IN THE SPU TO WATCH OVER HIM WITH SILENT EUES THAT SEEMED TO  \n",
      "GYIDE HIS FEET ALONG KATHS HE HAD NEVER PNOWN EXISTED YNTIL THE NIGHT  \n",
      "OKENED THEM BEFORE HIM AND THE STARS ABOVE MARPED HIS WAU WITH THEIR  \n",
      "DISTANT LIGHT THAT GLITTERED LIPE SILVER DYST SCATTERED ACROSS A BLACP  \n",
      "CLOTH THAT COVERED THE HEAVENS AND MADE HIM FEEL BOTH SMALL AND UET  \n",
      "KART OF SOMETHING GREATER THAN HIMSELF AS IF THE YNIVERSE HAD BEEN  \n",
      "WAITING FOR HIM TO WALP THIS VERU ROAD AND TO LEARN THAT THE JOYRNEU  \n",
      "WAS NOT ONLU ABOYT REACHING THE CITU HE SOYGHT BYT ABOYT DISCOVERING  \n",
      "THE STRENGTH THAT LAU WITHIN HIM AND THE COYRAGE THAT GREW WITH EACH  \n",
      "STEK THAT HE TOOP INTO THE YNPNOWN WHERE THE KROMISE OF TOMORROW  \n",
      "WAITED LIPE A LIGHT THAT COYLD NEVER BE EXTINGYISHED NO MATTER HOW  \n",
      "LONG THE NIGHT OR HOW FAR THE ROAD THAT LED HIM EVER ONWARD INTO THE DISTANCE  \n"
     ]
    }
   ],
   "source": [
    "#U->C\n",
    "mp['Q'] = 'C'\n",
    "mp['G'] = 'U'\n",
    "is_coherent(mp)\n",
    "print(mp)\n",
    "print(decipher(mp, new_cipher))"
   ]
  },
  {
   "cell_type": "code",
   "execution_count": 251,
   "id": "30749b28-a35e-4e1f-95cf-b511eaec6f00",
   "metadata": {},
   "outputs": [
    {
     "name": "stdout",
     "output_type": "stream",
     "text": [
      "mp coherent\n",
      "{'E': 'E', 'O': 'T', 'U': 'H', 'I': 'A', 'H': 'O', 'J': 'R', 'S': 'S', 'W': 'I', 'A': 'N', 'B': 'D', 'C': 'L', 'F': 'W', 'L': 'G', 'T': 'F', 'Y': 'M', 'Q': 'C', 'R': 'U', 'G': 'Y', 'D': 'V', 'N': 'B', 'X': 'K', 'P': 'P', 'V': 'X', 'K': 'J', 'M': 'Q'}\n",
      "THE TRAVELER LEFT HIS VILLAGE AT DAWN WITH A SMALL BAG ON HIS SHOULDER  \n",
      "AND HE FOLLOWED THE NARROW ROAD THAT LED ACROSS THE FIELDS WHERE THE GRASS  \n",
      "WAS STILL WET WITH DEW AND THE AIR WAS COOL WHILE THE SOUND OF BIRDS  \n",
      "ECHOED FROM THE TREES THAT STOOD AT THE EDGE OF THE FOREST AND THE SKY  \n",
      "GREW BRIGHTER WITH EVERY STEP AS THE SUN ROSE BEHIND THE DISTANT HILLS  \n",
      "AND THE SHADOWS SHORTENED WHILE THE COLORS OF THE EARTH CHANGED SLOWLY  \n",
      "FROM GREY TO GOLD AS IF THE LAND ITSELF WERE AWAKENING TO GREET HIM ON  \n",
      "HIS JOURNEY THAT SEEMED TO STRETCH ENDLESSLY BEFORE HIM LIKE A RIVER  \n",
      "WHOSE COURSE WAS UNKNOWN YET PROMISED TO LEAD SOMEWHERE BEYOND THE HORIQON  \n",
      "WHERE THE CITY HE DREAMED OF STOOD WITH WALLS OF STONE AND TOWERS THAT  \n",
      "GLITTERED IN THE LIGHT OF THE MORNING SUN THAT SHONE WITH A BRILLIANCE  \n",
      "THAT MADE HIM THINK OF STORIES HE HAD HEARD AS A CHILD WHEN HE SAT BY  \n",
      "THE FIRE AND LISTENED TO HIS MOTHER SPEAK OF HEROES WHO TRAVELED FAR  \n",
      "AND FOUND WONDERS THAT CHANGED THEIR LIVES FOREVER WHILE HE WONDERED IF  \n",
      "HIS OWN STEPS WOULD ONE DAY BRING HIM TO SUCH PLACES OR IF THE ROAD  \n",
      "WOULD SIMPLY CONTINUE WITHOUT END ACROSS VALLEYS AND OVER RIVERS AND  \n",
      "THROUGH FORESTS THAT GREW DARKER AS THE LIGHT OF DAY FADED AND THE MOON  \n",
      "APPEARED IN THE SKY TO WATCH OVER HIM WITH SILENT EYES THAT SEEMED TO  \n",
      "GUIDE HIS FEET ALONG PATHS HE HAD NEVER KNOWN EXISTED UNTIL THE NIGHT  \n",
      "OPENED THEM BEFORE HIM AND THE STARS ABOVE MARKED HIS WAY WITH THEIR  \n",
      "DISTANT LIGHT THAT GLITTERED LIKE SILVER DUST SCATTERED ACROSS A BLACK  \n",
      "CLOTH THAT COVERED THE HEAVENS AND MADE HIM FEEL BOTH SMALL AND YET  \n",
      "PART OF SOMETHING GREATER THAN HIMSELF AS IF THE UNIVERSE HAD BEEN  \n",
      "WAITING FOR HIM TO WALK THIS VERY ROAD AND TO LEARN THAT THE JOURNEY  \n",
      "WAS NOT ONLY ABOUT REACHING THE CITY HE SOUGHT BUT ABOUT DISCOVERING  \n",
      "THE STRENGTH THAT LAY WITHIN HIM AND THE COURAGE THAT GREW WITH EACH  \n",
      "STEP THAT HE TOOK INTO THE UNKNOWN WHERE THE PROMISE OF TOMORROW  \n",
      "WAITED LIKE A LIGHT THAT COULD NEVER BE EXTINGUISHED NO MATTER HOW  \n",
      "LONG THE NIGHT OR HOW FAR THE ROAD THAT LED HIM EVER ONWARD INTO THE DISTANCE  \n"
     ]
    }
   ],
   "source": [
    "def ins_map(a,b,map):\n",
    "    '''the letter a becomes the letter b and vice-versa in the map mantaining it coherent'''\n",
    "    ka = 0\n",
    "    kb = 0\n",
    "    for k, v in map.items():\n",
    "        if v == a:\n",
    "            ka = k\n",
    "        if v == b:\n",
    "            kb = k\n",
    "        if kb != 0 and ka != 0:\n",
    "            break\n",
    "        if kb == ka and kb != 0:\n",
    "            print(\"swapping same letter!!\")\n",
    "            return\n",
    "    mp[ka] = b\n",
    "    mp[kb] = a\n",
    "ins_map('Y', 'U', mp)\n",
    "ins_map('K','P', mp)\n",
    "is_coherent(mp)\n",
    "print(mp)\n",
    "print(decipher(mp, new_cipher))"
   ]
  },
  {
   "cell_type": "code",
   "execution_count": null,
   "id": "236a45f9-1aed-4879-9bfc-81f1ec572283",
   "metadata": {},
   "outputs": [],
   "source": []
  }
 ],
 "metadata": {
  "kernelspec": {
   "display_name": "Python 3 (ipykernel)",
   "language": "python",
   "name": "python3"
  },
  "language_info": {
   "codemirror_mode": {
    "name": "ipython",
    "version": 3
   },
   "file_extension": ".py",
   "mimetype": "text/x-python",
   "name": "python",
   "nbconvert_exporter": "python",
   "pygments_lexer": "ipython3",
   "version": "3.13.3"
  }
 },
 "nbformat": 4,
 "nbformat_minor": 5
}
